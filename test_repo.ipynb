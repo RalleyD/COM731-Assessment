{
 "cells": [
  {
   "cell_type": "markdown",
   "id": "4d40939b-ecb6-46be-b94d-5f9fa6b1c8de",
   "metadata": {},
   "source": [
    "# Test Repo"
   ]
  },
  {
   "cell_type": "code",
   "execution_count": 10,
   "id": "6ab36f8f-f1b1-44e5-9d1a-7fdbf92cd6e7",
   "metadata": {},
   "outputs": [
    {
     "name": "stdout",
     "output_type": "stream",
     "text": [
      "hey, python\n"
     ]
    }
   ],
   "source": [
    "print(\"hey, python\")"
   ]
  },
  {
   "cell_type": "code",
   "execution_count": null,
   "id": "c70278f3-f09e-477d-a6b1-704547f90f1f",
   "metadata": {},
   "outputs": [],
   "source": []
  }
 ],
 "metadata": {
  "kernelspec": {
   "display_name": "COM731",
   "language": "python",
   "name": "com731"
  },
  "language_info": {
   "codemirror_mode": {
    "name": "ipython",
    "version": 3
   },
   "file_extension": ".py",
   "mimetype": "text/x-python",
   "name": "python",
   "nbconvert_exporter": "python",
   "pygments_lexer": "ipython3",
   "version": "3.10.14"
  }
 },
 "nbformat": 4,
 "nbformat_minor": 5
}
